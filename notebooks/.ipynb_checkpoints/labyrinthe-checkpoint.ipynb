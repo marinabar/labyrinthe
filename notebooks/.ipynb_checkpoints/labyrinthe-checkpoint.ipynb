{
 "cells": [
  {
   "cell_type": "markdown",
   "metadata": {},
   "source": [
    "<table style=\"border:1px solid black\">\n",
    "    <tbody>\n",
    "    <tr>\n",
    "        <td style=\"text-align: center; vertical-align: middle; border:1px solid black;\"><h1>TP<br></h1></td>\n",
    "        <td style=\"text-align: center; vertical-align: middle; border:1px solid black;\"><h2>1h30<br></h2></td>\n",
    "        <td style=\"text-align: center; vertical-align: middle; border:1px solid black;\"><h2>Algorithmes sur les \n",
    "graphes</h2></td>\n",
    "        <td style=\"text-align: center; vertical-align: middle; border:1px solid black;\"><h2>Terminale<br></h2></td>\n",
    "     </tr>\n",
    "     <tr>\n",
    "        <th colspan=\"2\" style=\"text-align: center; vertical-align: middle; border:1px solid black; background-color:white;\"><img alt=\"logoLycée\" src=\"../notebook/TNSI/logoLLG.jpg\"></th>\n",
    "        <td style=\"text-align: center; vertical-align: middle; border:1px solid black;\"><h2>Parcours de labyrinthe<br></h2></td>\n",
    "        <th style=\"text-align: center; vertical-align: middle; border:1px solid black; background-color:white;\"><img alt=\"logoNSI\" src=\"../notebook/TNSI/logoTnsi.png\"></th> \n",
    "    </tr>\n",
    "    </tbody>\n",
    "</table>"
   ]
  },
  {
   "cell_type": "markdown",
   "metadata": {},
   "source": [
    "<img alt=\"Creative Commons License\" src=\"https://i.creativecommons.org/l/by-nc-sa/4.0/88x31.png\" />\n",
    "This work is licensed under a <a rel=\"license\" href=\"http://creativecommons.org/licenses/by-nc-sa/4.0/\">\n",
    "Creative Commons Attribution-NonCommercial-ShareAlike 4.0 International License</a>.\n",
    "<br>\n",
    "<p>Nous allons étudier, à travers ce TP, comment générer un <b>labyrinthe parfait</b> (lorsque deux cases quelconques sont reliées par un seul chemin, pas de cycle, c'est un arbre) comportant largxhaut cases. Nous aborderons ensuite, comment parcourir ce labyrinthe, en utilisant la classe \"GraphMa\" construite lors des séances sur les Graphes.</p>"
   ]
  },
  {
   "cell_type": "markdown",
   "metadata": {},
   "source": [
    "<h1>1er partie : génération du labyrinthe</h1>\n",
    "<p>Nous utilisons la bibliotèque \"matplotlib.pyplot\" dans le but de tracer un parcours aléatoire comportant larg * haut cases. On part de la case de coordonnée (0, 0), et on avance de case en case jusqu'à remplir toutes les cases.<br>On donne l'exemple ci-dessous, avec larg = 6 et haut = 4 :</p><img src=\"../notebook/TNSI/laby.gif\" alt=\"exemple de construction d'un labyrinthe\">\n",
    "<p>Lire, comprendre et exécuter le programme suivant :</p>"
   ]
  },
  {
   "cell_type": "code",
   "execution_count": 2,
   "metadata": {},
   "outputs": [
    {
     "data": {},
     "metadata": {},
     "output_type": "display_data"
    }
   ],
   "source": [
    "import matplotlib.pyplot as plt\n",
    "from random import choice\n",
    "\n",
    "# Constante et variables du programme\n",
    "DIR = [(-1, 0), (1, 0), (0, -1), (0, 1)] # Directions possibles en x et y\n",
    "larg = 5\n",
    "haut = 5\n",
    "# listes des points pour la construction du labyrinthe\n",
    "coordx = []\n",
    "coordy = []\n",
    "\n",
    "def traiter_case(i, j):\n",
    "    # Vérifie si la case est possible\n",
    "    if 0 <= i < larg and 0 <= j < haut:\n",
    "        return T[j][i] # nouvelle case 'False' ou case déjà visitée 'True'\n",
    "    else:\n",
    "        return True # bord du labyrinthe\n",
    "\n",
    "def choisir_chemin(case):\n",
    "    # Sélection des cases voisines\n",
    "    i,j = case # case de départ\n",
    "    if not traiter_case(i, j):\n",
    "        T[j][i] = True\n",
    "    L = []\n",
    "    for a,b in DIR: # pour chaque case voisine\n",
    "        if not traiter_case(i+a, j+b):\n",
    "            L.append((i+a, j+b))\n",
    "    return L\n",
    "\n",
    "def construire_laby(case):\n",
    "    # Obtenir recursivement les coordonnées de chaque point du labyrinthe\n",
    "    L = choisir_chemin(case) # on récupère les voisins du point de départ\n",
    "    if L == []:\n",
    "        return\n",
    "    else:\n",
    "        sc = choice(L) # choix du point d'arrivée parmi les voisins\n",
    "        coordx.append((case[0], sc[0])) # ajout des points de départ et d'arrivée dans les listes\n",
    "        coordy.append((case[1], sc[1]))\n",
    "        construire_laby(sc)\n",
    "        construire_laby(case)\n",
    "\n",
    "def tracer():\n",
    "    # effectue le tracé du labyrinthe\n",
    "    for i in range(len(coordx)):\n",
    "        ax.plot([coordx[i][0],coordx[i][1]], [coordy[i][0],coordy[i][1]], 'w', lw=35)\n",
    "\n",
    "# Programme principal\n",
    "assert larg*haut <= 14400, \"largeur X hauteur doit être < 7200\" # limitation mémoire\n",
    "T = [[False for j in range(larg)] for i in range(haut)] # cases à traiter\n",
    "fig1 = plt.figure(figsize=(larg, haut))\n",
    "ax = fig1.add_subplot(1,1,1)\n",
    "ax.set_facecolor('black')\n",
    "ax.set_xlim(-0.25, larg-1+0.25)\n",
    "ax.set_ylim(-0.25, haut-1+0.25)\n",
    "ax.grid(True, linestyle=\"-\", color=\"red\", lw=\"2\")\n",
    "ax.set_xticks([x for x in range(larg)])\n",
    "ax.set_yticks([y for y in range(haut)])\n",
    "debut = (0, 0) # départ du labyrinthe\n",
    "construire_laby(debut)\n",
    "tracer()\n",
    "plt.show()"
   ]
  },
  {
   "cell_type": "code",
   "execution_count": 3,
   "metadata": {},
   "outputs": [
    {
     "name": "stdout",
     "output_type": "stream",
     "text": [
      "[(0, 0), (0, 1), (1, 2), (2, 2), (2, 3), (3, 4), (4, 4), (4, 4), (4, 3), (3, 3), (3, 2), (2, 1), (1, 0), (0, 0), (0, 0), (0, 1), (1, 1), (1, 2), (2, 3), (3, 4), (4, 4), (4, 3), (3, 2), (2, 1)]\n",
      "[(0, 1), (1, 1), (1, 1), (1, 0), (0, 0), (0, 0), (0, 1), (1, 2), (2, 2), (2, 1), (2, 2), (2, 2), (2, 2), (2, 3), (3, 4), (4, 4), (4, 3), (3, 3), (3, 3), (3, 3), (3, 4), (4, 4), (4, 4), (0, 0)]\n"
     ]
    }
   ],
   "source": [
    "print(coordx)\n",
    "print(coordy)"
   ]
  },
  {
   "cell_type": "markdown",
   "metadata": {},
   "source": [
    "<p>Réaliser la fonction <i>matriceConst()</i> qui prend comme paramètre une matrice ne comportant que des 0 et retourne la matrice de construction du labyrinthe.<br>On donne :</p>\n",
    "<img src=\"../notebook/TNSI/labyrintheGif.gif\" alt=\"construction de la matrice du labyrinthe\">\n",
    "<ol><li>Compléter la fonction suivante :</li></ol>"
   ]
  },
  {
   "cell_type": "code",
   "execution_count": null,
   "metadata": {},
   "outputs": [],
   "source": [
    "def construire_matrice(matrice):\n",
    "    # Crée la matrice du labyrinthe à partir du tracé\n",
    "    \n",
    "    \n",
    "    # A compléter\n",
    "    \n",
    "    return matrice\n",
    "        \n",
    "matrice = [[0 for j in range(2*larg-1)] for i in range(2*haut-1)]\n",
    "matrice = construire_matrice(matrice)\n",
    "print(\"Matrice de construction :\")\n",
    "for j in range(len(matrice)):\n",
    "    for i in range(len(matrice[j])):\n",
    "        if matrice[j][i] == 1:\n",
    "            print('\\033[91;1m',\"1\", end=\"  \") # code ANSI rouge, gras\n",
    "        else:\n",
    "            print('\\033[0m',\"0\", end=\"  \") # RESET Color, Style\n",
    "    print(\"\\n\")"
   ]
  },
  {
   "cell_type": "markdown",
   "metadata": {},
   "source": [
    "<p>Afin de vérifier votre matrice, nous utilisons la méthode <i>imshow()</i> de matplotlib.pyplot qui permet de visualiser une image. La matrice représente alors les pixels (0 : noir et 1 (255) : blanc) codés sur 8 bits. Nous affichons aussi les points de début et de fin du labyrinthe en gris clair 0.8 (204).</p>"
   ]
  },
  {
   "cell_type": "code",
   "execution_count": null,
   "metadata": {},
   "outputs": [],
   "source": [
    "def afficher(mat):\n",
    "    \n",
    "    fig2 = plt.figure()\n",
    "    ax = fig2.add_subplot(1,1,1)\n",
    "    ax.imshow(mat, cmap='gray', vmin=0, vmax=1)\n",
    "    plt.show()\n",
    "    plt.close(fig2)\n",
    "\n",
    "matrice[0][0] = 0.8 # point de début\n",
    "matrice[2*haut-2][2*larg-2] = 0.8 # point de fin\n",
    "afficher(matrice)"
   ]
  }
 ],
 "metadata": {
  "kernelspec": {
   "display_name": "Python 3",
   "language": "python",
   "name": "python3"
  },
  "language_info": {
   "codemirror_mode": {
    "name": "ipython",
    "version": 3
   },
   "file_extension": ".py",
   "mimetype": "text/x-python",
   "name": "python",
   "nbconvert_exporter": "python",
   "pygments_lexer": "ipython3",
   "version": "3.9.6"
  }
 },
 "nbformat": 4,
 "nbformat_minor": 2
}
